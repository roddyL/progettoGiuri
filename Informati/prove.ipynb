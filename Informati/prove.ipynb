{
 "cells": [
  {
   "cell_type": "code",
   "execution_count": 9,
   "metadata": {},
   "outputs": [],
   "source": [
    "def news_get(keyword):\n",
    "    import feedparser\n",
    "    import newspaper\n",
    "    \n",
    "    if not keyword:\n",
    "        keyword=\"Vuoto\"\n",
    "\n",
    "    # GOOGLE_RSS_URL=\"https://news.google.com/rss?hl=it&gl=IT&ceid=IT:it\"\n",
    "    # NewsFeed = feedparser.parse(GOOGLE_RSS_URL)\n",
    "    \n",
    "    GOOGLE_RSS_KEYWORD_LOCALIZATION=\"https://news.google.com/rss/search?q=<KEYWORD>&hl=<LANGUAGE_CODE>&gl=<COUNTRY_CODE>&ceid=<COUNTRY_CODE>:<LANGUAGE_CODE>\"\n",
    "\n",
    "    NewsFeed = feedparser.parse(GOOGLE_RSS_KEYWORD_LOCALIZATION.replace(\n",
    "    \"<LANGUAGE_CODE>\",\"It\").replace(\n",
    "        \"<COUNTRY_CODE>\",\"It\").replace(\n",
    "            \"<KEYWORD>\",str(keyword)))\n",
    "\n",
    "    # NewsFeed = feedparser.parse(GOOGLE_RSS_KEYWORD_LOCALIZATION.replace(\"<KEYWORD>\",keyword))\n",
    "    newss=[]\n",
    "    for newsItem in NewsFeed.entries:\n",
    "        article=newspaper.Article(url=newsItem[\"link\"])\n",
    "        try:\n",
    "            article.download()\n",
    "            article.parse()\n",
    "            newss.append(\n",
    "                        {\"titolo\":article.title,\n",
    "                          \"autori\":article.authors,\n",
    "                          \"testata_giornalistica\":newsItem.source[\"title\"],\n",
    "                          \"data_di_pubblicazione\":article.publish_date,\n",
    "                          \"link\":newsItem[\"link\"],\n",
    "                          \"testo\":article.text, \n",
    "                          \"img_url\":article.top_image}\n",
    "                         )\n",
    "        except:\n",
    "            pass\n",
    "        # print(article.title+\"\\n\"+article.text+\"\\n\"+str(article.publish_date)+\"\\n\"+\"\\n -----Nuovo Articolo------ \\n\")\n",
    "        if len(newss)>10:\n",
    "            return newss"
   ]
  },
  {
   "cell_type": "code",
   "execution_count": 10,
   "metadata": {},
   "outputs": [],
   "source": [
    "text =news_get(\"motorino\")"
   ]
  },
  {
   "cell_type": "code",
   "execution_count": 15,
   "metadata": {},
   "outputs": [
    {
     "data": {
      "text/plain": [
       "'Before you continue'"
      ]
     },
     "execution_count": 15,
     "metadata": {},
     "output_type": "execute_result"
    }
   ],
   "source": [
    "text[0][\"titolo\"]"
   ]
  }
 ],
 "metadata": {
  "kernelspec": {
   "display_name": "ArcSis",
   "language": "python",
   "name": "python3"
  },
  "language_info": {
   "codemirror_mode": {
    "name": "ipython",
    "version": 3
   },
   "file_extension": ".py",
   "mimetype": "text/x-python",
   "name": "python",
   "nbconvert_exporter": "python",
   "pygments_lexer": "ipython3",
   "version": "3.10.6"
  },
  "orig_nbformat": 4,
  "vscode": {
   "interpreter": {
    "hash": "dcd14d79a1523d885649f5961a4c7aa96d0856b86344daf9120128fa590f495d"
   }
  }
 },
 "nbformat": 4,
 "nbformat_minor": 2
}
