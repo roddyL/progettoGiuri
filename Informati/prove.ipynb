{
 "cells": [
  {
   "cell_type": "code",
   "execution_count": 1,
   "metadata": {},
   "outputs": [],
   "source": [
    "def news_get(keyword):\n",
    "    import feedparser\n",
    "    import newspaper\n",
    "    \n",
    "    if not keyword:\n",
    "        keyword=\"Vuoto\"\n",
    "\n",
    "    # GOOGLE_RSS_URL=\"https://news.google.com/rss?hl=it&gl=IT&ceid=IT:it\"\n",
    "    # NewsFeed = feedparser.parse(GOOGLE_RSS_URL)\n",
    "    \n",
    "    GOOGLE_RSS_KEYWORD_LOCALIZATION=\"https://news.google.com/rss/search?q=<KEYWORD>&hl=<LANGUAGE_CODE>&gl=<COUNTRY_CODE>&ceid=<COUNTRY_CODE>:<LANGUAGE_CODE>\"\n",
    "\n",
    "    NewsFeed = feedparser.parse(GOOGLE_RSS_KEYWORD_LOCALIZATION.replace(\n",
    "    \"<LANGUAGE_CODE>\",\"It\").replace(\n",
    "        \"<COUNTRY_CODE>\",\"It\").replace(\n",
    "            \"<KEYWORD>\",str(keyword)))\n",
    "\n",
    "    # NewsFeed = feedparser.parse(GOOGLE_RSS_KEYWORD_LOCALIZATION.replace(\"<KEYWORD>\",keyword))\n",
    "    newss=[]\n",
    "    for newsItem in NewsFeed.entries:\n",
    "        article=newspaper.Article(url=newsItem[\"link\"])\n",
    "        try:\n",
    "            article.download()\n",
    "            article.parse()\n",
    "            newss.append(\n",
    "                        {\"titolo\":article.title,\n",
    "                          \"autori\":article.authors,\n",
    "                          \"testata_giornalistica\":newsItem.source[\"title\"],\n",
    "                          \"data_di_pubblicazione\":article.publish_date,\n",
    "                          \"link\":newsItem[\"link\"],\n",
    "                          \"testo\":article.text, \n",
    "                          \"img_url\":article.top_image}\n",
    "                         )\n",
    "        except:\n",
    "            pass\n",
    "        # print(article.title+\"\\n\"+article.text+\"\\n\"+str(article.publish_date)+\"\\n\"+\"\\n -----Nuovo Articolo------ \\n\")\n",
    "        if len(newss)>10:\n",
    "            return newss"
   ]
  },
  {
   "cell_type": "code",
   "execution_count": 2,
   "metadata": {},
   "outputs": [],
   "source": [
    "text =news_get(\"motorino\")"
   ]
  },
  {
   "cell_type": "code",
   "execution_count": 5,
   "metadata": {},
   "outputs": [
    {
     "data": {
      "text/plain": [
       "[{'titolo': 'Before you continue',\n",
       "  'autori': [],\n",
       "  'testata_giornalistica': 'Tag24',\n",
       "  'data_di_pubblicazione': None,\n",
       "  'link': 'https://news.google.com/rss/articles/CBMiRWh0dHBzOi8vd3d3LnRhZzI0Lml0LzQ5MTc1MS1sb25kcmEtY2FsY2lvLXBpenphLXN0YWRpby1sZXl0b24tb3JpZW50L9IBAA?oc=5',\n",
       "  'testo': 'A reminder that showing ads is the primary way we fund our services. Learn more about our use of data for advertising.\\n\\nDeliver and maintain Google services\\n\\nTrack outages and protect against spam, fraud, and abuse\\n\\nMeasure audience engagement and site statistics to understand how our services are used and enhance the quality of those services\\n\\nDevelop and improve new services\\n\\nDeliver and measure the effectiveness of ads\\n\\nShow personalized content, depending on your settings\\n\\nShow personalized ads, depending on your settings\\n\\nIf you choose to “Reject all,” we will not use cookies for these additional purposes.\\n\\nNon-personalized content is influenced by things like the content you’re currently viewing, activity in your active Search session, and your location. Non-personalized ads are influenced by the content you’re currently viewing and your general location. Personalized content and ads can also include more relevant results, recommendations, and tailored ads based on past activity from this browser, like previous Google searches. We also use cookies and data to tailor the experience to be age-appropriate, if relevant.\\n\\nWe use cookies and data toIf you choose to “Accept all,” we will also use cookies and data toSelect “More options” to see additional information, including details about managing your privacy settings. You can also visit g.co/privacytools at any time.',\n",
       "  'img_url': 'https://www.google.com/favicon.ico'},\n",
       " {'titolo': 'Before you continue',\n",
       "  'autori': [],\n",
       "  'testata_giornalistica': 'Il Riformista',\n",
       "  'data_di_pubblicazione': None,\n",
       "  'link': 'https://news.google.com/rss/articles/CBMicmh0dHBzOi8vd3d3Lmlscmlmb3JtaXN0YS5pdC9nYWxsZXJpYS12aXR0b3JpYS1waWVuYS1kaS1mdW1vLXZhLWEtZnVvY28tdW4tbW90b3Jpbm8tdHJhZmZpY28tZGV2aWF0by1lLWNhb3MtMzQxNzU1L9IBdmh0dHBzOi8vd3d3Lmlscmlmb3JtaXN0YS5pdC9nYWxsZXJpYS12aXR0b3JpYS1waWVuYS1kaS1mdW1vLXZhLWEtZnVvY28tdW4tbW90b3Jpbm8tdHJhZmZpY28tZGV2aWF0by1lLWNhb3MtMzQxNzU1L2FtcC8?oc=5',\n",
       "  'testo': 'A reminder that showing ads is the primary way we fund our services. Learn more about our use of data for advertising.\\n\\nDeliver and maintain Google services\\n\\nTrack outages and protect against spam, fraud, and abuse\\n\\nMeasure audience engagement and site statistics to understand how our services are used and enhance the quality of those services\\n\\nDevelop and improve new services\\n\\nDeliver and measure the effectiveness of ads\\n\\nShow personalized content, depending on your settings\\n\\nShow personalized ads, depending on your settings\\n\\nIf you choose to “Reject all,” we will not use cookies for these additional purposes.\\n\\nNon-personalized content is influenced by things like the content you’re currently viewing, activity in your active Search session, and your location. Non-personalized ads are influenced by the content you’re currently viewing and your general location. Personalized content and ads can also include more relevant results, recommendations, and tailored ads based on past activity from this browser, like previous Google searches. We also use cookies and data to tailor the experience to be age-appropriate, if relevant.\\n\\nWe use cookies and data toIf you choose to “Accept all,” we will also use cookies and data toSelect “More options” to see additional information, including details about managing your privacy settings. You can also visit g.co/privacytools at any time.',\n",
       "  'img_url': 'https://www.google.com/favicon.ico'},\n",
       " {'titolo': 'Before you continue',\n",
       "  'autori': [],\n",
       "  'testata_giornalistica': 'Corriere Bergamo - Corriere della Sera',\n",
       "  'data_di_pubblicazione': None,\n",
       "  'link': 'https://news.google.com/rss/articles/CBMiqgFodHRwczovL2JlcmdhbW8uY29ycmllcmUuaXQvbm90aXppZS9jcm9uYWNhLzIzX2ZlYmJyYWlvXzAzL2JlcmdhbW8tdmlhZ2dpYXZhLXVuLW1vdG9yaW5vLXJ1YmF0by1mZXJtYXRvLTIyZW5uZS1wcmVjZWRlbnRpLWZ1cnRvLWQwNjYwZWFjLWEzZGEtMTFlZC1iMGQ3LWQ2MTBkMDdhYjc4MS5zaHRtbNIBrQFodHRwczovL2JlcmdhbW8uY29ycmllcmUuaXQvbm90aXppZS9jcm9uYWNhLzIzX2ZlYmJyYWlvXzAzL2JlcmdhbW8tdmlhZ2dpYXZhLXVuLW1vdG9yaW5vLXJ1YmF0by1mZXJtYXRvLTIyZW5uZS1wcmVjZWRlbnRpLWZ1cnRvLWQwNjYwZWFjLWEzZGEtMTFlZC1iMGQ3LWQ2MTBkMDdhYjc4MV9hbXAuaHRtbA?oc=5',\n",
       "  'testo': 'A reminder that showing ads is the primary way we fund our services. Learn more about our use of data for advertising.\\n\\nDeliver and maintain Google services\\n\\nTrack outages and protect against spam, fraud, and abuse\\n\\nMeasure audience engagement and site statistics to understand how our services are used and enhance the quality of those services\\n\\nDevelop and improve new services\\n\\nDeliver and measure the effectiveness of ads\\n\\nShow personalized content, depending on your settings\\n\\nShow personalized ads, depending on your settings\\n\\nIf you choose to “Reject all,” we will not use cookies for these additional purposes.\\n\\nNon-personalized content is influenced by things like the content you’re currently viewing, activity in your active Search session, and your location. Non-personalized ads are influenced by the content you’re currently viewing and your general location. Personalized content and ads can also include more relevant results, recommendations, and tailored ads based on past activity from this browser, like previous Google searches. We also use cookies and data to tailor the experience to be age-appropriate, if relevant.\\n\\nWe use cookies and data toIf you choose to “Accept all,” we will also use cookies and data toSelect “More options” to see additional information, including details about managing your privacy settings. You can also visit g.co/privacytools at any time.',\n",
       "  'img_url': 'https://www.google.com/favicon.ico'},\n",
       " {'titolo': 'Before you continue',\n",
       "  'autori': [],\n",
       "  'testata_giornalistica': 'QN Motori',\n",
       "  'data_di_pubblicazione': None,\n",
       "  'link': 'https://news.google.com/rss/articles/CBMiVWh0dHBzOi8vbW90b3JpLnF1b3RpZGlhbm8ubmV0L2NvbWVmYXJlL2NvbWUtY29uc3VtYXJlLW1lbm8tY2FyYnVyYW50ZS1pbi1tb3Rvcmluby5odG3SAVtodHRwczovL21vdG9yaS5xdW90aWRpYW5vLm5ldC9jb21lZmFyZS9jb21lLWNvbnN1bWFyZS1tZW5vLWNhcmJ1cmFudGUtaW4tbW90b3Jpbm8uaHRtP2FtcD0x?oc=5',\n",
       "  'testo': 'A reminder that showing ads is the primary way we fund our services. Learn more about our use of data for advertising.\\n\\nDeliver and maintain Google services\\n\\nTrack outages and protect against spam, fraud, and abuse\\n\\nMeasure audience engagement and site statistics to understand how our services are used and enhance the quality of those services\\n\\nDevelop and improve new services\\n\\nDeliver and measure the effectiveness of ads\\n\\nShow personalized content, depending on your settings\\n\\nShow personalized ads, depending on your settings\\n\\nIf you choose to “Reject all,” we will not use cookies for these additional purposes.\\n\\nNon-personalized content is influenced by things like the content you’re currently viewing, activity in your active Search session, and your location. Non-personalized ads are influenced by the content you’re currently viewing and your general location. Personalized content and ads can also include more relevant results, recommendations, and tailored ads based on past activity from this browser, like previous Google searches. We also use cookies and data to tailor the experience to be age-appropriate, if relevant.\\n\\nWe use cookies and data toIf you choose to “Accept all,” we will also use cookies and data toSelect “More options” to see additional information, including details about managing your privacy settings. You can also visit g.co/privacytools at any time.',\n",
       "  'img_url': 'https://www.google.com/favicon.ico'},\n",
       " {'titolo': 'Before you continue',\n",
       "  'autori': [],\n",
       "  'testata_giornalistica': 'Prima Monza',\n",
       "  'data_di_pubblicazione': None,\n",
       "  'link': 'https://news.google.com/rss/articles/CBMiY2h0dHBzOi8vcHJpbWFtb256YS5pdC9jcm9uYWNhL2dyYXZlLXNjb250cm8tdHJhLXVuYXV0by1lLXVuLW1vdG9yaW5vLWEtY2FyYXRlLWF0dGVycmEtbGVsaXNvY2NvcnNvL9IBAA?oc=5',\n",
       "  'testo': 'A reminder that showing ads is the primary way we fund our services. Learn more about our use of data for advertising.\\n\\nDeliver and maintain Google services\\n\\nTrack outages and protect against spam, fraud, and abuse\\n\\nMeasure audience engagement and site statistics to understand how our services are used and enhance the quality of those services\\n\\nDevelop and improve new services\\n\\nDeliver and measure the effectiveness of ads\\n\\nShow personalized content, depending on your settings\\n\\nShow personalized ads, depending on your settings\\n\\nIf you choose to “Reject all,” we will not use cookies for these additional purposes.\\n\\nNon-personalized content is influenced by things like the content you’re currently viewing, activity in your active Search session, and your location. Non-personalized ads are influenced by the content you’re currently viewing and your general location. Personalized content and ads can also include more relevant results, recommendations, and tailored ads based on past activity from this browser, like previous Google searches. We also use cookies and data to tailor the experience to be age-appropriate, if relevant.\\n\\nWe use cookies and data toIf you choose to “Accept all,” we will also use cookies and data toSelect “More options” to see additional information, including details about managing your privacy settings. You can also visit g.co/privacytools at any time.',\n",
       "  'img_url': 'https://www.google.com/favicon.ico'},\n",
       " {'titolo': 'Before you continue',\n",
       "  'autori': [],\n",
       "  'testata_giornalistica': 'LA NAZIONE',\n",
       "  'data_di_pubblicazione': None,\n",
       "  'link': 'https://news.google.com/rss/articles/CBMiWmh0dHBzOi8vd3d3LmxhbmF6aW9uZS5pdC9maXJlbnplL2Nyb25hY2Evc2NhcHBhLXN1LXVuLW1vdG9yaW5vLXJ1YmF0by1kZW51bmNpYXRvLTEuODQ5MTA0M9IBXmh0dHBzOi8vd3d3LmxhbmF6aW9uZS5pdC9maXJlbnplL2Nyb25hY2Evc2NhcHBhLXN1LXVuLW1vdG9yaW5vLXJ1YmF0by1kZW51bmNpYXRvLTEuODQ5MTA0My9hbXA?oc=5',\n",
       "  'testo': 'A reminder that showing ads is the primary way we fund our services. Learn more about our use of data for advertising.\\n\\nDeliver and maintain Google services\\n\\nTrack outages and protect against spam, fraud, and abuse\\n\\nMeasure audience engagement and site statistics to understand how our services are used and enhance the quality of those services\\n\\nDevelop and improve new services\\n\\nDeliver and measure the effectiveness of ads\\n\\nShow personalized content, depending on your settings\\n\\nShow personalized ads, depending on your settings\\n\\nIf you choose to “Reject all,” we will not use cookies for these additional purposes.\\n\\nNon-personalized content is influenced by things like the content you’re currently viewing, activity in your active Search session, and your location. Non-personalized ads are influenced by the content you’re currently viewing and your general location. Personalized content and ads can also include more relevant results, recommendations, and tailored ads based on past activity from this browser, like previous Google searches. We also use cookies and data to tailor the experience to be age-appropriate, if relevant.\\n\\nWe use cookies and data toIf you choose to “Accept all,” we will also use cookies and data toSelect “More options” to see additional information, including details about managing your privacy settings. You can also visit g.co/privacytools at any time.',\n",
       "  'img_url': 'https://www.google.com/favicon.ico'},\n",
       " {'titolo': 'Before you continue',\n",
       "  'autori': [],\n",
       "  'testata_giornalistica': 'ilgazzettino.it',\n",
       "  'data_di_pubblicazione': None,\n",
       "  'link': 'https://news.google.com/rss/articles/CBMihwFodHRwczovL3d3dy5pbGdhenpldHRpbm8uaXQvbm9yZGVzdC92ZW5lemlhL2RvbG9fbG9yZW56b18xNl9hbm5pX3BhcmFsaXp6YXRvX21vdG9yaW5vX2dhbGF4eV9zb2NpZXRhX2NhbGNpb19yYWNjb2x0YV9mb25kaS03MTk4MDk5Lmh0bWzSAYMBaHR0cHM6Ly93d3cuaWxnYXp6ZXR0aW5vLml0L0FNUC9ub3JkZXN0L2RvbG9fbG9yZW56b18xNl9hbm5pX3BhcmFsaXp6YXRvX21vdG9yaW5vX2dhbGF4eV9zb2NpZXRhX2NhbGNpb19yYWNjb2x0YV9mb25kaS03MTk4MDk5Lmh0bWw?oc=5',\n",
       "  'testo': 'A reminder that showing ads is the primary way we fund our services. Learn more about our use of data for advertising.\\n\\nDeliver and maintain Google services\\n\\nTrack outages and protect against spam, fraud, and abuse\\n\\nMeasure audience engagement and site statistics to understand how our services are used and enhance the quality of those services\\n\\nDevelop and improve new services\\n\\nDeliver and measure the effectiveness of ads\\n\\nShow personalized content, depending on your settings\\n\\nShow personalized ads, depending on your settings\\n\\nIf you choose to “Reject all,” we will not use cookies for these additional purposes.\\n\\nNon-personalized content is influenced by things like the content you’re currently viewing, activity in your active Search session, and your location. Non-personalized ads are influenced by the content you’re currently viewing and your general location. Personalized content and ads can also include more relevant results, recommendations, and tailored ads based on past activity from this browser, like previous Google searches. We also use cookies and data to tailor the experience to be age-appropriate, if relevant.\\n\\nWe use cookies and data toIf you choose to “Accept all,” we will also use cookies and data toSelect “More options” to see additional information, including details about managing your privacy settings. You can also visit g.co/privacytools at any time.',\n",
       "  'img_url': 'https://www.google.com/favicon.ico'},\n",
       " {'titolo': 'Before you continue',\n",
       "  'autori': [],\n",
       "  'testata_giornalistica': 'ilmessaggero.it',\n",
       "  'data_di_pubblicazione': None,\n",
       "  'link': 'https://news.google.com/rss/articles/CBMieWh0dHBzOi8vd3d3LmlsbWVzc2FnZ2Vyby5pdC92aWRlby90ZWNub2xvZ2lhL2Nlc18yMDIzX2lsX21vdG9yaW5vX3BpZWdoZXZvbGVfZGFsbGVfZGltZW5zaW9uaV9kaV91bmFfdmFsaWdpYS03MTU0MzQxLmh0bWzSAXJodHRwczovL3d3dy5pbG1lc3NhZ2dlcm8uaXQvQU1QL3ZpZGVvL2Nlc18yMDIzX2lsX21vdG9yaW5vX3BpZWdoZXZvbGVfZGFsbGVfZGltZW5zaW9uaV9kaV91bmFfdmFsaWdpYS03MTU0MzQxLmh0bWw?oc=5',\n",
       "  'testo': 'A reminder that showing ads is the primary way we fund our services. Learn more about our use of data for advertising.\\n\\nDeliver and maintain Google services\\n\\nTrack outages and protect against spam, fraud, and abuse\\n\\nMeasure audience engagement and site statistics to understand how our services are used and enhance the quality of those services\\n\\nDevelop and improve new services\\n\\nDeliver and measure the effectiveness of ads\\n\\nShow personalized content, depending on your settings\\n\\nShow personalized ads, depending on your settings\\n\\nIf you choose to “Reject all,” we will not use cookies for these additional purposes.\\n\\nNon-personalized content is influenced by things like the content you’re currently viewing, activity in your active Search session, and your location. Non-personalized ads are influenced by the content you’re currently viewing and your general location. Personalized content and ads can also include more relevant results, recommendations, and tailored ads based on past activity from this browser, like previous Google searches. We also use cookies and data to tailor the experience to be age-appropriate, if relevant.\\n\\nWe use cookies and data toIf you choose to “Accept all,” we will also use cookies and data toSelect “More options” to see additional information, including details about managing your privacy settings. You can also visit g.co/privacytools at any time.',\n",
       "  'img_url': 'https://www.google.com/favicon.ico'},\n",
       " {'titolo': 'Before you continue',\n",
       "  'autori': [],\n",
       "  'testata_giornalistica': 'ilmessaggero.it',\n",
       "  'data_di_pubblicazione': None,\n",
       "  'link': 'https://news.google.com/rss/articles/CBMibmh0dHBzOi8vd3d3LmlsbWVzc2FnZ2Vyby5pdC91bWJyaWEvZ3ViYmlvX3JhZ2F6emlub18xNF9hbm5pX21vdG9yaW5vX3R1bW9yZV9vc3Nlb19zYWx2YXRvX2JvbG9nbmEtNzIwODI5Ni5odG1s0gFyaHR0cHM6Ly93d3cuaWxtZXNzYWdnZXJvLml0L0FNUC91bWJyaWEvZ3ViYmlvX3JhZ2F6emlub18xNF9hbm5pX21vdG9yaW5vX3R1bW9yZV9vc3Nlb19zYWx2YXRvX2JvbG9nbmEtNzIwODI5Ni5odG1s?oc=5',\n",
       "  'testo': 'A reminder that showing ads is the primary way we fund our services. Learn more about our use of data for advertising.\\n\\nDeliver and maintain Google services\\n\\nTrack outages and protect against spam, fraud, and abuse\\n\\nMeasure audience engagement and site statistics to understand how our services are used and enhance the quality of those services\\n\\nDevelop and improve new services\\n\\nDeliver and measure the effectiveness of ads\\n\\nShow personalized content, depending on your settings\\n\\nShow personalized ads, depending on your settings\\n\\nIf you choose to “Reject all,” we will not use cookies for these additional purposes.\\n\\nNon-personalized content is influenced by things like the content you’re currently viewing, activity in your active Search session, and your location. Non-personalized ads are influenced by the content you’re currently viewing and your general location. Personalized content and ads can also include more relevant results, recommendations, and tailored ads based on past activity from this browser, like previous Google searches. We also use cookies and data to tailor the experience to be age-appropriate, if relevant.\\n\\nWe use cookies and data toIf you choose to “Accept all,” we will also use cookies and data toSelect “More options” to see additional information, including details about managing your privacy settings. You can also visit g.co/privacytools at any time.',\n",
       "  'img_url': 'https://www.google.com/favicon.ico'},\n",
       " {'titolo': 'Before you continue',\n",
       "  'autori': [],\n",
       "  'testata_giornalistica': 'Corriere del Mezzogiorno',\n",
       "  'data_di_pubblicazione': None,\n",
       "  'link': 'https://news.google.com/rss/articles/CBMiqAFodHRwczovL2NvcnJpZXJlZGVsbWV6em9naW9ybm8uY29ycmllcmUuaXQvbmFwb2xpL2Nyb25hY2EvMjNfZ2VubmFpb18zMS90b3JyZS1ncmVjby04N2VubmUtdHJhdm9sdG8tdWNjaXNvLW1vdG9yaW5vLWVsZXR0cmljby1kNWZiN2IwYS1hMTlmLTExZWQtOGRlNS0zNjIzYjVjMjVkOGYuc2h0bWzSAasBaHR0cHM6Ly9jb3JyaWVyZWRlbG1lenpvZ2lvcm5vLmNvcnJpZXJlLml0L25hcG9saS9jcm9uYWNhLzIzX2dlbm5haW9fMzEvdG9ycmUtZ3JlY28tODdlbm5lLXRyYXZvbHRvLXVjY2lzby1tb3Rvcmluby1lbGV0dHJpY28tZDVmYjdiMGEtYTE5Zi0xMWVkLThkZTUtMzYyM2I1YzI1ZDhmX2FtcC5odG1s?oc=5',\n",
       "  'testo': 'A reminder that showing ads is the primary way we fund our services. Learn more about our use of data for advertising.\\n\\nDeliver and maintain Google services\\n\\nTrack outages and protect against spam, fraud, and abuse\\n\\nMeasure audience engagement and site statistics to understand how our services are used and enhance the quality of those services\\n\\nDevelop and improve new services\\n\\nDeliver and measure the effectiveness of ads\\n\\nShow personalized content, depending on your settings\\n\\nShow personalized ads, depending on your settings\\n\\nIf you choose to “Reject all,” we will not use cookies for these additional purposes.\\n\\nNon-personalized content is influenced by things like the content you’re currently viewing, activity in your active Search session, and your location. Non-personalized ads are influenced by the content you’re currently viewing and your general location. Personalized content and ads can also include more relevant results, recommendations, and tailored ads based on past activity from this browser, like previous Google searches. We also use cookies and data to tailor the experience to be age-appropriate, if relevant.\\n\\nWe use cookies and data toIf you choose to “Accept all,” we will also use cookies and data toSelect “More options” to see additional information, including details about managing your privacy settings. You can also visit g.co/privacytools at any time.',\n",
       "  'img_url': 'https://www.google.com/favicon.ico'},\n",
       " {'titolo': 'Before you continue',\n",
       "  'autori': [],\n",
       "  'testata_giornalistica': 'PalermoToday',\n",
       "  'data_di_pubblicazione': None,\n",
       "  'link': 'https://news.google.com/rss/articles/CBMibWh0dHBzOi8vd3d3LnBhbGVybW90b2RheS5pdC9jcm9uYWNhL2Z1cnRvLW1vdG9yaW5vLWFjcXVhLXBvc3RhemlvbmUtZGVjZW50cmF0YS1wYWxsYXZpY2luby1jaGl1c2EtZGlzYWdpLmh0bWzSAW1odHRwczovL2FtcC5wYWxlcm1vdG9kYXkuaXQvY3JvbmFjYS9mdXJ0by1tb3Rvcmluby1hY3F1YS1wb3N0YXppb25lLWRlY2VudHJhdGEtcGFsbGF2aWNpbm8tY2hpdXNhLWRpc2FnaS5odG1s?oc=5',\n",
       "  'testo': 'A reminder that showing ads is the primary way we fund our services. Learn more about our use of data for advertising.\\n\\nDeliver and maintain Google services\\n\\nTrack outages and protect against spam, fraud, and abuse\\n\\nMeasure audience engagement and site statistics to understand how our services are used and enhance the quality of those services\\n\\nDevelop and improve new services\\n\\nDeliver and measure the effectiveness of ads\\n\\nShow personalized content, depending on your settings\\n\\nShow personalized ads, depending on your settings\\n\\nIf you choose to “Reject all,” we will not use cookies for these additional purposes.\\n\\nNon-personalized content is influenced by things like the content you’re currently viewing, activity in your active Search session, and your location. Non-personalized ads are influenced by the content you’re currently viewing and your general location. Personalized content and ads can also include more relevant results, recommendations, and tailored ads based on past activity from this browser, like previous Google searches. We also use cookies and data to tailor the experience to be age-appropriate, if relevant.\\n\\nWe use cookies and data toIf you choose to “Accept all,” we will also use cookies and data toSelect “More options” to see additional information, including details about managing your privacy settings. You can also visit g.co/privacytools at any time.',\n",
       "  'img_url': 'https://www.google.com/favicon.ico'}]"
      ]
     },
     "execution_count": 5,
     "metadata": {},
     "output_type": "execute_result"
    }
   ],
   "source": [
    "text"
   ]
  }
 ],
 "metadata": {
  "kernelspec": {
   "display_name": "ArcSis",
   "language": "python",
   "name": "python3"
  },
  "language_info": {
   "codemirror_mode": {
    "name": "ipython",
    "version": 3
   },
   "file_extension": ".py",
   "mimetype": "text/x-python",
   "name": "python",
   "nbconvert_exporter": "python",
   "pygments_lexer": "ipython3",
   "version": "3.10.6"
  },
  "orig_nbformat": 4,
  "vscode": {
   "interpreter": {
    "hash": "dcd14d79a1523d885649f5961a4c7aa96d0856b86344daf9120128fa590f495d"
   }
  }
 },
 "nbformat": 4,
 "nbformat_minor": 2
}
