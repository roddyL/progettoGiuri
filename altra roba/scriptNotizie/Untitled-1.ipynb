{
 "cells": [
  {
   "cell_type": "code",
   "execution_count": 1,
   "metadata": {},
   "outputs": [
    {
     "ename": "ArticleException",
     "evalue": "Article `download()` failed with HTTPSConnectionPool(host='news.google.com', port=443): Read timed out. (read timeout=7) on URL https://news.google.com/__i/rss/rd/articles/CBMiUWh0dHBzOi8vd3d3Lmluc2lkZW1hcmtldGluZy5pdC9tYXJjby1tdXJhZ2xpYS1wcmVzaWRlbnRlLWF1ZGl3ZWItbnVvdm8tY29uc2lnbGlvL9IBAA?oc=5",
     "output_type": "error",
     "traceback": [
      "\u001b[1;31m---------------------------------------------------------------------------\u001b[0m",
      "\u001b[1;31mArticleException\u001b[0m                          Traceback (most recent call last)",
      "Cell \u001b[1;32mIn[1], line 27\u001b[0m\n\u001b[0;32m     25\u001b[0m article\u001b[39m=\u001b[39mnewspaper\u001b[39m.\u001b[39mArticle(url\u001b[39m=\u001b[39mnewsItem[\u001b[39m\"\u001b[39m\u001b[39mlink\u001b[39m\u001b[39m\"\u001b[39m])\n\u001b[0;32m     26\u001b[0m article\u001b[39m.\u001b[39mdownload()\n\u001b[1;32m---> 27\u001b[0m article\u001b[39m.\u001b[39;49mparse()\n\u001b[0;32m     28\u001b[0m \u001b[39m# print(article.title+\"\\n\"+article.text+\"\\n\"+str(article.publish_date)+\"\\n\"+\"\\n -----Nuovo Articolo------ \\n\")\u001b[39;00m\n\u001b[0;32m     30\u001b[0m list_articles\u001b[39m.\u001b[39mappend({\u001b[39m\"\u001b[39m\u001b[39mtitolo\u001b[39m\u001b[39m\"\u001b[39m:article\u001b[39m.\u001b[39mtitle,\u001b[39m\"\u001b[39m\u001b[39mautori\u001b[39m\u001b[39m\"\u001b[39m:article\u001b[39m.\u001b[39mauthors,\u001b[39m\"\u001b[39m\u001b[39mtestata giornalistica\u001b[39m\u001b[39m\"\u001b[39m:newsItem\u001b[39m.\u001b[39msource[\u001b[39m\"\u001b[39m\u001b[39mtitle\u001b[39m\u001b[39m\"\u001b[39m],\u001b[39m\"\u001b[39m\u001b[39mdata di pubblicazione\u001b[39m\u001b[39m\"\u001b[39m:article\u001b[39m.\u001b[39mpublish_date,\u001b[39m\"\u001b[39m\u001b[39mlink\u001b[39m\u001b[39m\"\u001b[39m:newsItem[\u001b[39m\"\u001b[39m\u001b[39mlink\u001b[39m\u001b[39m\"\u001b[39m],\u001b[39m\"\u001b[39m\u001b[39mtesto\u001b[39m\u001b[39m\"\u001b[39m:article\u001b[39m.\u001b[39mtext})     \n",
      "File \u001b[1;32mc:\\Users\\Utente\\Desktop\\gitHub\\progettoGiuri\\.venv\\lib\\site-packages\\newspaper\\article.py:191\u001b[0m, in \u001b[0;36mArticle.parse\u001b[1;34m(self)\u001b[0m\n\u001b[0;32m    190\u001b[0m \u001b[39mdef\u001b[39;00m \u001b[39mparse\u001b[39m(\u001b[39mself\u001b[39m):\n\u001b[1;32m--> 191\u001b[0m     \u001b[39mself\u001b[39;49m\u001b[39m.\u001b[39;49mthrow_if_not_downloaded_verbose()\n\u001b[0;32m    193\u001b[0m     \u001b[39mself\u001b[39m\u001b[39m.\u001b[39mdoc \u001b[39m=\u001b[39m \u001b[39mself\u001b[39m\u001b[39m.\u001b[39mconfig\u001b[39m.\u001b[39mget_parser()\u001b[39m.\u001b[39mfromstring(\u001b[39mself\u001b[39m\u001b[39m.\u001b[39mhtml)\n\u001b[0;32m    194\u001b[0m     \u001b[39mself\u001b[39m\u001b[39m.\u001b[39mclean_doc \u001b[39m=\u001b[39m copy\u001b[39m.\u001b[39mdeepcopy(\u001b[39mself\u001b[39m\u001b[39m.\u001b[39mdoc)\n",
      "File \u001b[1;32mc:\\Users\\Utente\\Desktop\\gitHub\\progettoGiuri\\.venv\\lib\\site-packages\\newspaper\\article.py:531\u001b[0m, in \u001b[0;36mArticle.throw_if_not_downloaded_verbose\u001b[1;34m(self)\u001b[0m\n\u001b[0;32m    529\u001b[0m     \u001b[39mraise\u001b[39;00m ArticleException(\u001b[39m'\u001b[39m\u001b[39mYou must `download()` an article first!\u001b[39m\u001b[39m'\u001b[39m)\n\u001b[0;32m    530\u001b[0m \u001b[39melif\u001b[39;00m \u001b[39mself\u001b[39m\u001b[39m.\u001b[39mdownload_state \u001b[39m==\u001b[39m ArticleDownloadState\u001b[39m.\u001b[39mFAILED_RESPONSE:\n\u001b[1;32m--> 531\u001b[0m     \u001b[39mraise\u001b[39;00m ArticleException(\u001b[39m'\u001b[39m\u001b[39mArticle `download()` failed with \u001b[39m\u001b[39m%s\u001b[39;00m\u001b[39m on URL \u001b[39m\u001b[39m%s\u001b[39;00m\u001b[39m'\u001b[39m \u001b[39m%\u001b[39m\n\u001b[0;32m    532\u001b[0m           (\u001b[39mself\u001b[39m\u001b[39m.\u001b[39mdownload_exception_msg, \u001b[39mself\u001b[39m\u001b[39m.\u001b[39murl))\n",
      "\u001b[1;31mArticleException\u001b[0m: Article `download()` failed with HTTPSConnectionPool(host='news.google.com', port=443): Read timed out. (read timeout=7) on URL https://news.google.com/__i/rss/rd/articles/CBMiUWh0dHBzOi8vd3d3Lmluc2lkZW1hcmtldGluZy5pdC9tYXJjby1tdXJhZ2xpYS1wcmVzaWRlbnRlLWF1ZGl3ZWItbnVvdm8tY29uc2lnbGlvL9IBAA?oc=5"
     ]
    }
   ],
   "source": [
    "import feedparser\n",
    "import newspaper\n",
    "import pandas as pd\n",
    "\n",
    "GOOGLE_RSS_URL=\"https://news.google.com/rss/\"\n",
    "GOOGLE_RSS_TOPIC_URL=\"https://news.google.com/rss/topics/<TOPIC_ID>\"\n",
    "GOOGLE_RSS_KEYWORD=\"https://news.google.com/rss/search?q=<KEYWORD>\"\n",
    "GOOGLE_RSS_COUNTRY_LANGUAGE=\"https://news.google.com/rss?hl=<LANGUAGE_CODE>&gl=<COUNTRY_CODE>&ceid=<COUNTRY_CODE>:<LANGUAGE_CODE>\"\n",
    "GOOGLE_RSS_KEYWORD_LOCALIZATION=\"https://news.google.com/rss/search?q=<KEYWORD>&hl=<LANGUAGE_CODE>&gl=<COUNTRY_CODE>&ceid=<COUNTRY_CODE>:<LANGUAGE_CODE>\"\n",
    "GOOGLE_RSS_DATERANGE=GOOGLE_RSS_KEYWORD+\"+after:<AFTER_DATE>+before:<BEFORE_DATE>\" # 2022-06-10\n",
    "GOOGLE_RSS_DATERANGE_LOCALIZATION=GOOGLE_RSS_DATERANGE+\"&hl=<LANGUAGE_CODE>&gl=<COUNTRY_CODE>&ceid=<COUNTRY_CODE>:<LANGUAGE_CODE>\"\n",
    "keyword=\"smact\"\n",
    "NewsFeed = feedparser.parse(GOOGLE_RSS_DATERANGE_LOCALIZATION.replace(\n",
    "    \"<LANGUAGE_CODE>\",\"It\").replace(\n",
    "        \"<COUNTRY_CODE>\",\"It\").replace(\n",
    "            \"<KEYWORD>\",keyword).replace(\n",
    "                \"<BEFORE_DATE>\",\"2022-12-22\").replace(\n",
    "                    \"<AFTER_DATE>\",\"2022-01-01\"))\n",
    "\n",
    "# NewsFeed = feedparser.parse(GOOGLE_RSS_KEYWORD_LOCALIZATION.replace(\"<KEYWORD>\",keyword))\n",
    "\n",
    "list_articles=[]\n",
    "\n",
    "for newsItem in NewsFeed.entries:\n",
    "    article=newspaper.Article(url=newsItem[\"link\"])\n",
    "    article.download()\n",
    "    article.parse()\n",
    "    # print(article.title+\"\\n\"+article.text+\"\\n\"+str(article.publish_date)+\"\\n\"+\"\\n -----Nuovo Articolo------ \\n\")\n",
    "\n",
    "    list_articles.append({\"titolo\":article.title,\"autori\":article.authors,\"testata giornalistica\":newsItem.source[\"title\"],\"data di pubblicazione\":article.publish_date,\"link\":newsItem[\"link\"],\"testo\":article.text})     \n"
   ]
  },
  {
   "cell_type": "code",
   "execution_count": 4,
   "metadata": {},
   "outputs": [],
   "source": [
    "df=pd.DataFrame(list_articles)"
   ]
  },
  {
   "cell_type": "code",
   "execution_count": 7,
   "metadata": {},
   "outputs": [
    {
     "data": {
      "text/plain": [
       "count                                                    68\n",
       "unique                                                   68\n",
       "top       Una serra, un deposito alimentare, un panifici...\n",
       "freq                                                      1\n",
       "Name: testo, dtype: object"
      ]
     },
     "execution_count": 7,
     "metadata": {},
     "output_type": "execute_result"
    }
   ],
   "source": [
    "df.testo"
   ]
  },
  {
   "cell_type": "code",
   "execution_count": null,
   "metadata": {},
   "outputs": [],
   "source": []
  }
 ],
 "metadata": {
  "kernelspec": {
   "display_name": ".venv",
   "language": "python",
   "name": "python3"
  },
  "language_info": {
   "codemirror_mode": {
    "name": "ipython",
    "version": 3
   },
   "file_extension": ".py",
   "mimetype": "text/x-python",
   "name": "python",
   "nbconvert_exporter": "python",
   "pygments_lexer": "ipython3",
   "version": "3.10.4 (tags/v3.10.4:9d38120, Mar 23 2022, 23:13:41) [MSC v.1929 64 bit (AMD64)]"
  },
  "orig_nbformat": 4,
  "vscode": {
   "interpreter": {
    "hash": "53c7d06a94f97772baf6fce67b432a9d559006a92d79c7043efbdcb7931e15b9"
   }
  }
 },
 "nbformat": 4,
 "nbformat_minor": 2
}
